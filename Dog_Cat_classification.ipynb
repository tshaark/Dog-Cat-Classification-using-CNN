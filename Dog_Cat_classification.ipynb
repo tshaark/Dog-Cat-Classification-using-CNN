{
  "nbformat": 4,
  "nbformat_minor": 0,
  "metadata": {
    "colab": {
      "name": "Dog-Cat-classification.ipynb",
      "provenance": []
    },
    "kernelspec": {
      "name": "python3",
      "display_name": "Python 3"
    },
    "accelerator": "TPU"
  },
  "cells": [
    {
      "cell_type": "code",
      "metadata": {
        "id": "yTz7v2wvYOR8",
        "colab_type": "code",
        "colab": {
          "base_uri": "https://localhost:8080/",
          "height": 34
        },
        "outputId": "1e60c722-1084-4649-d75c-70a72ecc29db"
      },
      "source": [
        "import tensorflow as tf\n",
        "from tensorflow import keras\n",
        "from tensorflow.keras import Sequential\n",
        "from tensorflow.keras.layers import Flatten, Dense, Conv2D, MaxPool2D, ZeroPadding2D, Dropout, BatchNormalization\n",
        "from tensorflow.keras.preprocessing.image import ImageDataGenerator\n",
        "from tensorflow.keras.optimizers import SGD\n",
        "print(tf.__version__)\n"
      ],
      "execution_count": 4,
      "outputs": [
        {
          "output_type": "stream",
          "text": [
            "2.2.0-rc4\n"
          ],
          "name": "stdout"
        }
      ]
    },
    {
      "cell_type": "code",
      "metadata": {
        "id": "_Q7mkFZ_Zu_5",
        "colab_type": "code",
        "colab": {}
      },
      "source": [
        "import numpy as np\n",
        "import pandas as pd\n",
        "import matplotlib.pyplot as plt\n"
      ],
      "execution_count": 0,
      "outputs": []
    },
    {
      "cell_type": "code",
      "metadata": {
        "id": "II8Fd0Mja5-R",
        "colab_type": "code",
        "colab": {
          "base_uri": "https://localhost:8080/",
          "height": 121
        },
        "outputId": "e8e43f22-c696-4da4-cbd0-bb2943d0bdcc"
      },
      "source": [
        "!git clone https://github.com/laxmimerit/dog-cat-full-dataset.git"
      ],
      "execution_count": 15,
      "outputs": [
        {
          "output_type": "stream",
          "text": [
            "Cloning into 'dog-cat-full-dataset'...\n",
            "remote: Enumerating objects: 25027, done.\u001b[K\n",
            "remote: Total 25027 (delta 0), reused 0 (delta 0), pack-reused 25027\u001b[K\n",
            "Receiving objects: 100% (25027/25027), 541.62 MiB | 34.94 MiB/s, done.\n",
            "Resolving deltas: 100% (5/5), done.\n",
            "Checking out files: 100% (25001/25001), done.\n"
          ],
          "name": "stdout"
        }
      ]
    },
    {
      "cell_type": "code",
      "metadata": {
        "id": "2A37hQ6rbD71",
        "colab_type": "code",
        "colab": {}
      },
      "source": [
        "test_data_dir ='/content/dog-cat-full-dataset/data/test'\n",
        "train_data_dir = '/content/dog-cat-full-dataset/data/train'"
      ],
      "execution_count": 0,
      "outputs": []
    },
    {
      "cell_type": "code",
      "metadata": {
        "id": "9RO3cbbffjIg",
        "colab_type": "code",
        "colab": {}
      },
      "source": [
        "img_width = 64\n",
        "img_height = 64\n",
        "batch_size = 20"
      ],
      "execution_count": 0,
      "outputs": []
    },
    {
      "cell_type": "code",
      "metadata": {
        "id": "YxYZN_YMMZYq",
        "colab_type": "code",
        "colab": {}
      },
      "source": [
        "datagen = ImageDataGenerator(rescale = 1./255)"
      ],
      "execution_count": 0,
      "outputs": []
    },
    {
      "cell_type": "code",
      "metadata": {
        "id": "Z1WXXTgQMosY",
        "colab_type": "code",
        "colab": {
          "base_uri": "https://localhost:8080/",
          "height": 34
        },
        "outputId": "0224215d-e328-4d8f-d781-ee4321811812"
      },
      "source": [
        "train_generator = datagen.flow_from_directory(directory=train_data_dir,\n",
        "                                              target_size = (img_width,img_height),\n",
        "                                              classes = ['dogs','cats'],\n",
        "                                              class_mode = 'binary',\n",
        "                                              batch_size=batch_size)"
      ],
      "execution_count": 94,
      "outputs": [
        {
          "output_type": "stream",
          "text": [
            "Found 20000 images belonging to 2 classes.\n"
          ],
          "name": "stdout"
        }
      ]
    },
    {
      "cell_type": "code",
      "metadata": {
        "id": "NKwhPMdGNamz",
        "colab_type": "code",
        "colab": {
          "base_uri": "https://localhost:8080/",
          "height": 34
        },
        "outputId": "8cf562d8-3fbe-4632-b702-51bc86d0a70f"
      },
      "source": [
        "train_generator.classes"
      ],
      "execution_count": 95,
      "outputs": [
        {
          "output_type": "execute_result",
          "data": {
            "text/plain": [
              "array([0, 0, 0, ..., 1, 1, 1], dtype=int32)"
            ]
          },
          "metadata": {
            "tags": []
          },
          "execution_count": 95
        }
      ]
    },
    {
      "cell_type": "code",
      "metadata": {
        "id": "wqV7AxE4N0io",
        "colab_type": "code",
        "colab": {
          "base_uri": "https://localhost:8080/",
          "height": 34
        },
        "outputId": "9c0e6f1d-7842-43ae-c57c-26b8d89a0b48"
      },
      "source": [
        "validation_generator = datagen.flow_from_directory(directory=test_data_dir,\n",
        "                                              target_size = (img_width,img_height),\n",
        "                                              classes = ['dogs','cats'],\n",
        "                                              class_mode = 'binary',\n",
        "                                              batch_size=batch_size)"
      ],
      "execution_count": 96,
      "outputs": [
        {
          "output_type": "stream",
          "text": [
            "Found 5000 images belonging to 2 classes.\n"
          ],
          "name": "stdout"
        }
      ]
    },
    {
      "cell_type": "code",
      "metadata": {
        "id": "DwXxE5DlOB9R",
        "colab_type": "code",
        "colab": {
          "base_uri": "https://localhost:8080/",
          "height": 34
        },
        "outputId": "0442acf6-70a2-4db7-a839-87e7c0c50fff"
      },
      "source": [
        "len(train_generator)"
      ],
      "execution_count": 97,
      "outputs": [
        {
          "output_type": "execute_result",
          "data": {
            "text/plain": [
              "1000"
            ]
          },
          "metadata": {
            "tags": []
          },
          "execution_count": 97
        }
      ]
    },
    {
      "cell_type": "code",
      "metadata": {
        "id": "dJ3qumysOShR",
        "colab_type": "code",
        "colab": {}
      },
      "source": [
        "model = Sequential()\n",
        "model.add(Conv2D(filters = 64, kernel_size=(3,3),activation ='relu', padding='same',kernel_initializer='he_uniform', input_shape = (img_width,img_height,3)))\n",
        "model.add(MaxPool2D(pool_size=(2,2)))\n",
        "\n",
        "\n",
        "model.add(Flatten())\n",
        "model.add(Dense(units = 128,activation='relu', kernel_initializer='he_uniform'))\n",
        "model.add(Dense(1,activation='sigmoid'))"
      ],
      "execution_count": 0,
      "outputs": []
    },
    {
      "cell_type": "code",
      "metadata": {
        "id": "vHaAW6CcOe0f",
        "colab_type": "code",
        "colab": {}
      },
      "source": [
        "opt = SGD(learning_rate=0.01, momentum=0.9)"
      ],
      "execution_count": 0,
      "outputs": []
    },
    {
      "cell_type": "code",
      "metadata": {
        "id": "DPSay-wDPbmo",
        "colab_type": "code",
        "colab": {}
      },
      "source": [
        "model.compile(optimizer=opt,loss='binary_crossentropy', metrics=['accuracy'])"
      ],
      "execution_count": 0,
      "outputs": []
    },
    {
      "cell_type": "code",
      "metadata": {
        "id": "N8KOEfQhPmVg",
        "colab_type": "code",
        "colab": {
          "base_uri": "https://localhost:8080/",
          "height": 191
        },
        "outputId": "7c7d2bcc-a129-41ec-8b78-7a5534e1f88f"
      },
      "source": [
        "history = model.fit_generator(generator=train_generator, steps_per_epoch=len(train_generator),epochs= 5,validation_data=validation_generator,validation_steps=len(validation_generator),verbose = 1)"
      ],
      "execution_count": 101,
      "outputs": [
        {
          "output_type": "stream",
          "text": [
            "Epoch 1/5\n",
            "1000/1000 [==============================] - 166s 166ms/step - loss: 0.7139 - accuracy: 0.5016 - val_loss: 0.6922 - val_accuracy: 0.5326\n",
            "Epoch 2/5\n",
            "1000/1000 [==============================] - 163s 163ms/step - loss: 0.6891 - accuracy: 0.5179 - val_loss: 0.6594 - val_accuracy: 0.6232\n",
            "Epoch 3/5\n",
            "1000/1000 [==============================] - 160s 160ms/step - loss: 0.6201 - accuracy: 0.6643 - val_loss: 0.5659 - val_accuracy: 0.7218\n",
            "Epoch 4/5\n",
            "1000/1000 [==============================] - 159s 159ms/step - loss: 0.5549 - accuracy: 0.7210 - val_loss: 0.5706 - val_accuracy: 0.7090\n",
            "Epoch 5/5\n",
            "1000/1000 [==============================] - 158s 158ms/step - loss: 0.4974 - accuracy: 0.7616 - val_loss: 0.5387 - val_accuracy: 0.7300\n"
          ],
          "name": "stdout"
        }
      ]
    },
    {
      "cell_type": "code",
      "metadata": {
        "id": "-37DsJgTYh7v",
        "colab_type": "code",
        "colab": {
          "base_uri": "https://localhost:8080/",
          "height": 364
        },
        "outputId": "b6a7dfc2-8ed9-496d-e497-191f65846318"
      },
      "source": [
        "history.history"
      ],
      "execution_count": 102,
      "outputs": [
        {
          "output_type": "execute_result",
          "data": {
            "text/plain": [
              "{'accuracy': [0.5016000270843506,\n",
              "  0.5178999900817871,\n",
              "  0.6642500162124634,\n",
              "  0.7210000157356262,\n",
              "  0.7615500092506409],\n",
              " 'loss': [0.7139091491699219,\n",
              "  0.6891428828239441,\n",
              "  0.6200695037841797,\n",
              "  0.5549072623252869,\n",
              "  0.49735161662101746],\n",
              " 'val_accuracy': [0.5325999855995178,\n",
              "  0.623199999332428,\n",
              "  0.7218000292778015,\n",
              "  0.7089999914169312,\n",
              "  0.7300000190734863],\n",
              " 'val_loss': [0.6922498941421509,\n",
              "  0.6594051122665405,\n",
              "  0.565876841545105,\n",
              "  0.5705603957176208,\n",
              "  0.5387072563171387]}"
            ]
          },
          "metadata": {
            "tags": []
          },
          "execution_count": 102
        }
      ]
    },
    {
      "cell_type": "code",
      "metadata": {
        "id": "FL2clxurQNz-",
        "colab_type": "code",
        "colab": {}
      },
      "source": [
        "def plot_learningCurve(history,epoch):\n",
        "  epoch_range= range(1,epoch+1)\n",
        "  plt.plot(epoch_range, history.history['accuracy'])\n",
        "  plt.plot(epoch_range, history.history['val_accuracy'])\n",
        "  plt.title('Model Accuracy')\n",
        "  plt.ylabel('Accuracy')\n",
        "  plt.xlabel('Epoch')\n",
        "  plt.legend(['Train','Val'],loc = 'upper left')\n",
        "  plt.show()\n",
        "\n",
        "  plt.plot(epoch_range, history.history['loss'])\n",
        "  plt.plot(epoch_range, history.history['val_loss'])\n",
        "  plt.title('Model loss')\n",
        "  plt.ylabel('Loss')\n",
        "  plt.xlabel('Epoch')\n",
        "  plt.legend(['Train','Val'],loc = 'upper left')\n",
        "  plt.show()\n"
      ],
      "execution_count": 0,
      "outputs": []
    },
    {
      "cell_type": "code",
      "metadata": {
        "id": "xjoBmH-1XJnz",
        "colab_type": "code",
        "colab": {
          "base_uri": "https://localhost:8080/",
          "height": 573
        },
        "outputId": "132eee18-af41-4897-c55b-d377fd0a224e"
      },
      "source": [
        "plot_learningCurve(history,5)"
      ],
      "execution_count": 104,
      "outputs": [
        {
          "output_type": "display_data",
          "data": {
            "image/png": "[encoded data removed]",
            "text/plain": [
              "<Figure size 432x288 with 1 Axes>"
            ]
          },
          "metadata": {
            "tags": [],
            "needs_background": "light"
          }
        },
        {
          "output_type": "display_data",
          "data": {
            "image/png": "[encoded data removed]",
            "text/plain": [
              "<Figure size 432x288 with 1 Axes>"
            ]
          },
          "metadata": {
            "tags": [],
            "needs_background": "light"
          }
        }
      ]
    },
    {
      "cell_type": "markdown",
      "metadata": {
        "id": "ppbTcfZcaEab",
        "colab_type": "text"
      },
      "source": [
        "### Batch Normalization and Dropout and more blocks from VGG 16"
      ]
    },
    {
      "cell_type": "code",
      "metadata": {
        "colab_type": "code",
        "id": "ECXpI3uCaRGM",
        "colab": {}
      },
      "source": [
        "model = Sequential()\n",
        "model.add(Conv2D(filters = 64, kernel_size=(3,3),activation ='relu', padding='same',kernel_initializer='he_uniform', input_shape = (img_width,img_height,3)))\n",
        "model.add(BatchNormalization())\n",
        "model.add(MaxPool2D(pool_size=(2,2)))\n",
        "model.add(Dropout(0.2))\n",
        "\n",
        "model = Sequential()\n",
        "model.add(Conv2D(filters = 128, kernel_size=(3,3),activation ='relu', padding='same',kernel_initializer='he_uniform'))\n",
        "model.add(BatchNormalization())\n",
        "model.add(MaxPool2D(pool_size=(2,2)))\n",
        "model.add(Dropout(0.3))\n",
        "\n",
        "model = Sequential()\n",
        "model.add(Conv2D(filters = 256, kernel_size=(3,3),activation ='relu', padding='same',kernel_initializer='he_uniform'))\n",
        "model.add(BatchNormalization())\n",
        "model.add(MaxPool2D(pool_size=(2,2)))\n",
        "model.add(Dropout(0.5))\n",
        "\n",
        "model.add(Flatten())\n",
        "model.add(Dense(units = 128,activation='relu', kernel_initializer='he_uniform'))\n",
        "model.add(BatchNormalization())\n",
        "model.add(Dropout(0.5))\n",
        "\n",
        "model.add(Dense(1,activation='sigmoid'))"
      ],
      "execution_count": 0,
      "outputs": []
    },
    {
      "cell_type": "code",
      "metadata": {
        "colab_type": "code",
        "id": "L7lnpKGvaRGn",
        "colab": {}
      },
      "source": [
        "opt = SGD(learning_rate=0.01, momentum=0.9)"
      ],
      "execution_count": 0,
      "outputs": []
    },
    {
      "cell_type": "code",
      "metadata": {
        "colab_type": "code",
        "id": "JPQuVsywaRHA",
        "colab": {}
      },
      "source": [
        "model.compile(optimizer=opt,loss='binary_crossentropy', metrics=['accuracy'])"
      ],
      "execution_count": 0,
      "outputs": []
    },
    {
      "cell_type": "code",
      "metadata": {
        "colab_type": "code",
        "outputId": "391fc033-dc3f-428a-9115-3196dcdf6278",
        "id": "4KupnpR_aRHS",
        "colab": {
          "base_uri": "https://localhost:8080/",
          "height": 364
        }
      },
      "source": [
        "history = model.fit_generator(generator=train_generator, steps_per_epoch=len(train_generator),epochs= 10,validation_data=validation_generator,validation_steps=len(validation_generator),verbose = 1)"
      ],
      "execution_count": 108,
      "outputs": [
        {
          "output_type": "stream",
          "text": [
            "Epoch 1/10\n",
            "1000/1000 [==============================] - 713s 713ms/step - loss: 0.6868 - accuracy: 0.6191 - val_loss: 0.6116 - val_accuracy: 0.6818\n",
            "Epoch 2/10\n",
            "1000/1000 [==============================] - 702s 702ms/step - loss: 0.5751 - accuracy: 0.7109 - val_loss: 0.5467 - val_accuracy: 0.7302\n",
            "Epoch 3/10\n",
            "1000/1000 [==============================] - 704s 704ms/step - loss: 0.5362 - accuracy: 0.7337 - val_loss: 0.6478 - val_accuracy: 0.6714\n",
            "Epoch 4/10\n",
            "1000/1000 [==============================] - 701s 701ms/step - loss: 0.4979 - accuracy: 0.7614 - val_loss: 0.5094 - val_accuracy: 0.7650\n",
            "Epoch 5/10\n",
            "1000/1000 [==============================] - 695s 695ms/step - loss: 0.4771 - accuracy: 0.7733 - val_loss: 0.5497 - val_accuracy: 0.7456\n",
            "Epoch 6/10\n",
            "1000/1000 [==============================] - 685s 685ms/step - loss: 0.4589 - accuracy: 0.7879 - val_loss: 0.5154 - val_accuracy: 0.7568\n",
            "Epoch 7/10\n",
            "1000/1000 [==============================] - 696s 696ms/step - loss: 0.4380 - accuracy: 0.7977 - val_loss: 0.5207 - val_accuracy: 0.7514\n",
            "Epoch 8/10\n",
            "1000/1000 [==============================] - 688s 688ms/step - loss: 0.4083 - accuracy: 0.8165 - val_loss: 0.5509 - val_accuracy: 0.7520\n",
            "Epoch 9/10\n",
            "1000/1000 [==============================] - 691s 691ms/step - loss: 0.3951 - accuracy: 0.8205 - val_loss: 0.9305 - val_accuracy: 0.6016\n",
            "Epoch 10/10\n",
            "1000/1000 [==============================] - 681s 681ms/step - loss: 0.3857 - accuracy: 0.8288 - val_loss: 0.7039 - val_accuracy: 0.7148\n"
          ],
          "name": "stdout"
        }
      ]
    },
    {
      "cell_type": "code",
      "metadata": {
        "id": "NoZ_XlYDbjcg",
        "colab_type": "code",
        "colab": {
          "base_uri": "https://localhost:8080/",
          "height": 573
        },
        "outputId": "dab6be49-e6f9-42ad-9acd-0903d72d051f"
      },
      "source": [
        "plot_learningCurve(history,10)"
      ],
      "execution_count": 109,
      "outputs": [
        {
          "output_type": "display_data",
          "data": {
            "image/png": "[encoded data removed]",
            "text/plain": [
              "<Figure size 432x288 with 1 Axes>"
            ]
          },
          "metadata": {
            "tags": [],
            "needs_background": "light"
          }
        },
        {
          "output_type": "display_data",
          "data": {
            "image/png": "[encoded data removed]",
            "text/plain": [
              "<Figure size 432x288 with 1 Axes>"
            ]
          },
          "metadata": {
            "tags": [],
            "needs_background": "light"
          }
        }
      ]
    },
    {
      "cell_type": "code",
      "metadata": {
        "id": "8UHaaa1vkypU",
        "colab_type": "code",
        "colab": {}
      },
      "source": [
        ""
      ],
      "execution_count": 0,
      "outputs": []
    }
  ]
}